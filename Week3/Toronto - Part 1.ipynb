### Scraping Wikipedia page and creating a Dataframe and Transforming the data on Wiki page into pandas dataframe
