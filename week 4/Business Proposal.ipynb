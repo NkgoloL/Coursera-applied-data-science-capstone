{
 "cells": [
  {
   "cell_type": "markdown",
   "metadata": {
    "collapsed": true
   },
   "source": [
    "# The Battle of Neighborhoods | Business Proposal"
   ]
  },
  {
   "cell_type": "markdown",
   "metadata": {},
   "source": [
    "## Introduction:\n",
    "\n",
    "The purpose of this Project is to help people in exploring better facilities around their neighborhood. It will help people making smart and efficient decision on selecting great neighborhood out of numbers of other neighborhoods in North York, Toranto.\n",
    "\n",
    "A lot of people are migrating to various states of Canada and are in need of research on housing prices and which schools to take their children.\n",
    "\n",
    "The target audience for this project is those who are looking into moving to North York and require some information on  the different neighborhoods. Facts to keep in mind includes the ease of access to Cafes, Schools, Super markets, medical centers, grocery shops, malls, theatres, hospital,etc.\n",
    "\n",
    "This My analysis will look at features such as median housing price and better school according to ratings, crime rates of that particular area, road connectivity, weather conditions, good management for emergency, water resources both freash and waste water and excrement conveyed in sewers and recreational facilities.\n",
    "\n",
    "\n",
    "## Problem Which Tried to Solve:\n",
    "\n",
    "The major purpose of this project, is to suggest a better neighborhood in a new city for the person who are shiffting there. Social presence in society in terms of like minded people. Connectivity to the airport, bus stand, city center, markets and other daily needs things nearby.\n",
    "\n",
    "1. Sorted list of house in terms of housing prices in a ascending or descending order\n",
    "2. Sorted list of schools in terms of location, fees, rating and reviews\n",
    "\n",
    "\n",
    "## The Location:\n",
    "North York is one of the popular destination for new immigrants in Canada to reside. As a result, it is one of the most diverse and multicultural areas in the Greater Toronto Area, being home to various religious groups and places of worship.\n",
    "\n",
    "\n",
    "## Foursquare API:\n",
    "This project would use Four-square API as its prime data gathering source as it has a database of millions of places.\n",
    "\n",
    "\n",
    "## Work Flow:\n",
    "Using credentials of Foursquare API features of near-by places of the neighborhoods would be mined. Due to http request limitations the number of places per neighborhood parameter would reasonably be set to 100 and the radius parameter would be set to 500.\n",
    "\n",
    "\n",
    "## Clustering Approach:\n",
    "I will be clustering the data using a form of unsupervised machine learning known as k-means clustering algorithm\n",
    "\n",
    "\n",
    "## Libraries used Project:\n",
    "Pandas: Dataframe creation and manipulation.\n",
    "\n",
    "Folium: Python visualization library would be used to visualize the neighborhoods cluster distribution.\n",
    "\n",
    "Scikit Learn: Importing k-means clustering.\n",
    "\n",
    "JSON: JSON files library.\n",
    "\n",
    "XML: XML files library\n",
    "\n",
    "Geocoder: Location Data.\n",
    "\n",
    "Beautiful Soup and Requests: Scrap & http requests handler library.\n",
    "\n",
    "Matplotlib: Python Plotting Module."
   ]
  }
 ],
 "metadata": {
  "kernelspec": {
   "display_name": "Python 3.6",
   "language": "python",
   "name": "python3"
  },
  "language_info": {
   "codemirror_mode": {
    "name": "ipython",
    "version": 3
   },
   "file_extension": ".py",
   "mimetype": "text/x-python",
   "name": "python",
   "nbconvert_exporter": "python",
   "pygments_lexer": "ipython3",
   "version": "3.6.8"
  }
 },
 "nbformat": 4,
 "nbformat_minor": 1
}